{
 "cells": [
  {
   "cell_type": "markdown",
   "metadata": {
    "collapsed": true,
    "deletable": true,
    "editable": true
   },
   "source": [
    "# Image Classification\n",
    "In this project, you'll classify images from the [CIFAR-10 dataset](https://www.cs.toronto.edu/~kriz/cifar.html).  The dataset consists of airplanes, dogs, cats, and other objects. You'll preprocess the images, then train a convolutional neural network on all the samples. The images need to be normalized and the labels need to be one-hot encoded.  You'll get to apply what you learned and build a convolutional, max pooling, dropout, and fully connected layers.  At the end, you'll get to see your neural network's predictions on the sample images.\n",
    "## Get the Data\n",
    "Run the following cell to download the [CIFAR-10 dataset for python](https://www.cs.toronto.edu/~kriz/cifar-10-python.tar.gz)."
   ]
  },
  {
   "cell_type": "code",
   "execution_count": 3,
   "metadata": {
    "collapsed": false,
    "deletable": true,
    "editable": true
   },
   "outputs": [
    {
     "name": "stdout",
     "output_type": "stream",
     "text": [
      "All files found!\n"
     ]
    }
   ],
   "source": [
    "\"\"\"\n",
    "DON'T MODIFY ANYTHING IN THIS CELL THAT IS BELOW THIS LINE\n",
    "\"\"\"\n",
    "from urllib.request import urlretrieve\n",
    "from os.path import isfile, isdir\n",
    "from tqdm import tqdm\n",
    "import problem_unittests as tests\n",
    "import tarfile\n",
    "\n",
    "cifar10_dataset_folder_path = 'cifar-10-batches-py'\n",
    "\n",
    "# Use Floyd's cifar-10 dataset if present\n",
    "floyd_cifar10_location = '/input/cifar-10/python.tar.gz'\n",
    "if isfile(floyd_cifar10_location):\n",
    "    tar_gz_path = floyd_cifar10_location\n",
    "else:\n",
    "    tar_gz_path = 'cifar-10-python.tar.gz'\n",
    "\n",
    "class DLProgress(tqdm):\n",
    "    last_block = 0\n",
    "\n",
    "    def hook(self, block_num=1, block_size=1, total_size=None):\n",
    "        self.total = total_size\n",
    "        self.update((block_num - self.last_block) * block_size)\n",
    "        self.last_block = block_num\n",
    "\n",
    "if not isfile(tar_gz_path):\n",
    "    with DLProgress(unit='B', unit_scale=True, miniters=1, desc='CIFAR-10 Dataset') as pbar:\n",
    "        urlretrieve(\n",
    "            'https://www.cs.toronto.edu/~kriz/cifar-10-python.tar.gz',\n",
    "            tar_gz_path,\n",
    "            pbar.hook)\n",
    "\n",
    "if not isdir(cifar10_dataset_folder_path):\n",
    "    with tarfile.open(tar_gz_path) as tar:\n",
    "        tar.extractall()\n",
    "        tar.close()\n",
    "\n",
    "\n",
    "tests.test_folder_path(cifar10_dataset_folder_path)"
   ]
  },
  {
   "cell_type": "markdown",
   "metadata": {
    "deletable": true,
    "editable": true
   },
   "source": [
    "## Explore the Data\n",
    "The dataset is broken into batches to prevent your machine from running out of memory.  The CIFAR-10 dataset consists of 5 batches, named `data_batch_1`, `data_batch_2`, etc.. Each batch contains the labels and images that are one of the following:\n",
    "* airplane\n",
    "* automobile\n",
    "* bird\n",
    "* cat\n",
    "* deer\n",
    "* dog\n",
    "* frog\n",
    "* horse\n",
    "* ship\n",
    "* truck\n",
    "\n",
    "Understanding a dataset is part of making predictions on the data.  Play around with the code cell below by changing the `batch_id` and `sample_id`. The `batch_id` is the id for a batch (1-5). The `sample_id` is the id for a image and label pair in the batch.\n",
    "\n",
    "Ask yourself \"What are all possible labels?\", \"What is the range of values for the image data?\", \"Are the labels in order or random?\".  Answers to questions like these will help you preprocess the data and end up with better predictions."
   ]
  },
  {
   "cell_type": "code",
   "execution_count": 4,
   "metadata": {
    "collapsed": false,
    "deletable": true,
    "editable": true
   },
   "outputs": [
    {
     "name": "stdout",
     "output_type": "stream",
     "text": [
      "\n",
      "Stats of batch 1:\n",
      "Samples: 10000\n",
      "Label Counts: {0: 1005, 1: 974, 2: 1032, 3: 1016, 4: 999, 5: 937, 6: 1030, 7: 1001, 8: 1025, 9: 981}\n",
      "First 20 Labels: [6, 9, 9, 4, 1, 1, 2, 7, 8, 3, 4, 7, 7, 2, 9, 9, 9, 3, 2, 6]\n",
      "\n",
      "Example of Image 5:\n",
      "Image - Min Value: 0 Max Value: 252\n",
      "Image - Shape: (32, 32, 3)\n",
      "Label - Label Id: 1 Name: automobile\n"
     ]
    },
    {
     "data": {
      "image/png": "[encoded data removed]",
      "text/plain": [
       "<matplotlib.figure.Figure at 0x7f80a35a8ba8>"
      ]
     },
     "metadata": {
      "image/png": {
       "height": 250,
       "width": 253
      }
     },
     "output_type": "display_data"
    }
   ],
   "source": [
    "%matplotlib inline\n",
    "%config InlineBackend.figure_format = 'retina'\n",
    "\n",
    "import helper\n",
    "import numpy as np\n",
    "\n",
    "# Explore the dataset\n",
    "batch_id = 1\n",
    "sample_id = 5\n",
    "helper.display_stats(cifar10_dataset_folder_path, batch_id, sample_id)"
   ]
  },
  {
   "cell_type": "markdown",
   "metadata": {
    "deletable": true,
    "editable": true
   },
   "source": [
    "## Implement Preprocess Functions\n",
    "### Normalize\n",
    "In the cell below, implement the `normalize` function to take in image data, `x`, and return it as a normalized Numpy array. The values should be in the range of 0 to 1, inclusive.  The return object should be the same shape as `x`."
   ]
  },
  {
   "cell_type": "code",
   "execution_count": 5,
   "metadata": {
    "collapsed": false,
    "deletable": true,
    "editable": true
   },
   "outputs": [
    {
     "name": "stdout",
     "output_type": "stream",
     "text": [
      "Tests Passed\n"
     ]
    }
   ],
   "source": [
    "def normalize(x):\n",
    "    \"\"\"\n",
    "    Normalize a list of sample image data in the range of 0 to 1\n",
    "    : x: List of image data.  The image shape is (32, 32, 3)\n",
    "    : return: Numpy array of normalize data\n",
    "    \"\"\"\n",
    "    # TODO: Implement Function\n",
    "    return np.array((x) / (255))\n",
    "    \n",
    "\n",
    "\n",
    "\"\"\"\n",
    "DON'T MODIFY ANYTHING IN THIS CELL THAT IS BELOW THIS LINE\n",
    "\"\"\"\n",
    "tests.test_normalize(normalize)"
   ]
  },
  {
   "cell_type": "markdown",
   "metadata": {
    "deletable": true,
    "editable": true
   },
   "source": [
    "### One-hot encode\n",
    "Just like the previous code cell, you'll be implementing a function for preprocessing.  This time, you'll implement the `one_hot_encode` function. The input, `x`, are a list of labels.  Implement the function to return the list of labels as One-Hot encoded Numpy array.  The possible values for labels are 0 to 9. The one-hot encoding function should return the same encoding for each value between each call to `one_hot_encode`.  Make sure to save the map of encodings outside the function.\n",
    "\n",
    "Hint: Don't reinvent the wheel."
   ]
  },
  {
   "cell_type": "code",
   "execution_count": 6,
   "metadata": {
    "collapsed": false,
    "deletable": true,
    "editable": true
   },
   "outputs": [
    {
     "name": "stdout",
     "output_type": "stream",
     "text": [
      "Tests Passed\n"
     ]
    }
   ],
   "source": [
    "def one_hot_encode(x):\n",
    "    \"\"\"\n",
    "    One hot encode a list of sample labels. Return a one-hot encoded vector for each label.\n",
    "    : x: List of sample Labels\n",
    "    : return: Numpy array of one-hot encoded labels\n",
    "    \"\"\"\n",
    "    \n",
    "    # TODO: Implement Function\n",
    "    y = np.zeros((len(x), 10))\n",
    "    for i in range(len(x)):\n",
    "        y[i,x[i]] = 1\n",
    "       \n",
    "    return y\n",
    "\n",
    "\n",
    "\"\"\"\n",
    "DON'T MODIFY ANYTHING IN THIS CELL THAT IS BELOW THIS LINE\n",
    "\"\"\"\n",
    "tests.test_one_hot_encode(one_hot_encode)"
   ]
  },
  {
   "cell_type": "markdown",
   "metadata": {
    "deletable": true,
    "editable": true
   },
   "source": [
    "### Randomize Data\n",
    "As you saw from exploring the data above, the order of the samples are randomized.  It doesn't hurt to randomize it again, but you don't need to for this dataset."
   ]
  },
  {
   "cell_type": "markdown",
   "metadata": {
    "deletable": true,
    "editable": true
   },
   "source": [
    "## Preprocess all the data and save it\n",
    "Running the code cell below will preprocess all the CIFAR-10 data and save it to file. The code below also uses 10% of the training data for validation."
   ]
  },
  {
   "cell_type": "code",
   "execution_count": 7,
   "metadata": {
    "collapsed": false,
    "deletable": true,
    "editable": true
   },
   "outputs": [],
   "source": [
    "\"\"\"\n",
    "DON'T MODIFY ANYTHING IN THIS CELL\n",
    "\"\"\"\n",
    "# Preprocess Training, Validation, and Testing Data\n",
    "helper.preprocess_and_save_data(cifar10_dataset_folder_path, normalize, one_hot_encode)"
   ]
  },
  {
   "cell_type": "markdown",
   "metadata": {
    "deletable": true,
    "editable": true
   },
   "source": [
    "# Check Point\n",
    "This is your first checkpoint.  If you ever decide to come back to this notebook or have to restart the notebook, you can start from here.  The preprocessed data has been saved to disk."
   ]
  },
  {
   "cell_type": "code",
   "execution_count": 8,
   "metadata": {
    "collapsed": true,
    "deletable": true,
    "editable": true
   },
   "outputs": [],
   "source": [
    "\"\"\"\n",
    "DON'T MODIFY ANYTHING IN THIS CELL\n",
    "\"\"\"\n",
    "import pickle\n",
    "import problem_unittests as tests\n",
    "import helper\n",
    "\n",
    "# Load the Preprocessed Validation data\n",
    "valid_features, valid_labels = pickle.load(open('preprocess_validation.p', mode='rb'))"
   ]
  },
  {
   "cell_type": "markdown",
   "metadata": {
    "deletable": true,
    "editable": true
   },
   "source": [
    "## Build the network\n",
    "For the neural network, you'll build each layer into a function.  Most of the code you've seen has been outside of functions. To test your code more thoroughly, we require that you put each layer in a function.  This allows us to give you better feedback and test for simple mistakes using our unittests before you submit your project.\n",
    "\n",
    ">**Note:** If you're finding it hard to dedicate enough time for this course each week, we've provided a small shortcut to this part of the project. In the next couple of problems, you'll have the option to use classes from the [TensorFlow Layers](https://www.tensorflow.org/api_docs/python/tf/layers) or [TensorFlow Layers (contrib)](https://www.tensorflow.org/api_guides/python/contrib.layers) packages to build each layer, except the layers you build in the \"Convolutional and Max Pooling Layer\" section.  TF Layers is similar to Keras's and TFLearn's abstraction to layers, so it's easy to pickup.\n",
    "\n",
    ">However, if you would like to get the most out of this course, try to solve all the problems _without_ using anything from the TF Layers packages. You **can** still use classes from other packages that happen to have the same name as ones you find in TF Layers! For example, instead of using the TF Layers version of the `conv2d` class, [tf.layers.conv2d](https://www.tensorflow.org/api_docs/python/tf/layers/conv2d), you would want to use the TF Neural Network version of `conv2d`, [tf.nn.conv2d](https://www.tensorflow.org/api_docs/python/tf/nn/conv2d). \n",
    "\n",
    "Let's begin!\n",
    "\n",
    "### Input\n",
    "The neural network needs to read the image data, one-hot encoded labels, and dropout keep probability. Implement the following functions\n",
    "* Implement `neural_net_image_input`\n",
    " * Return a [TF Placeholder](https://www.tensorflow.org/api_docs/python/tf/placeholder)\n",
    " * Set the shape using `image_shape` with batch size set to `None`.\n",
    " * Name the TensorFlow placeholder \"x\" using the TensorFlow `name` parameter in the [TF Placeholder](https://www.tensorflow.org/api_docs/python/tf/placeholder).\n",
    "* Implement `neural_net_label_input`\n",
    " * Return a [TF Placeholder](https://www.tensorflow.org/api_docs/python/tf/placeholder)\n",
    " * Set the shape using `n_classes` with batch size set to `None`.\n",
    " * Name the TensorFlow placeholder \"y\" using the TensorFlow `name` parameter in the [TF Placeholder](https://www.tensorflow.org/api_docs/python/tf/placeholder).\n",
    "* Implement `neural_net_keep_prob_input`\n",
    " * Return a [TF Placeholder](https://www.tensorflow.org/api_docs/python/tf/placeholder) for dropout keep probability.\n",
    " * Name the TensorFlow placeholder \"keep_prob\" using the TensorFlow `name` parameter in the [TF Placeholder](https://www.tensorflow.org/api_docs/python/tf/placeholder).\n",
    "\n",
    "These names will be used at the end of the project to load your saved model.\n",
    "\n",
    "Note: `None` for shapes in TensorFlow allow for a dynamic size."
   ]
  },
  {
   "cell_type": "code",
   "execution_count": 9,
   "metadata": {
    "collapsed": false,
    "deletable": true,
    "editable": true
   },
   "outputs": [
    {
     "name": "stdout",
     "output_type": "stream",
     "text": [
      "Image Input Tests Passed.\n",
      "Label Input Tests Passed.\n",
      "Keep Prob Tests Passed.\n"
     ]
    }
   ],
   "source": [
    "import tensorflow as tf\n",
    "\n",
    "def neural_net_image_input(image_shape):\n",
    "    \"\"\"\n",
    "    Return a Tensor for a bach of image input\n",
    "    : image_shape: Shape of the images\n",
    "    : return: Tensor for image input.\n",
    "    \"\"\"\n",
    "    # TODO: Implement Function\n",
    "    return tf.placeholder(tf.float32, shape = [None] + list(image_shape), name = \"x\")\n",
    "\n",
    "\n",
    "def neural_net_label_input(n_classes):\n",
    "    \"\"\"\n",
    "    Return a Tensor for a batch of label input\n",
    "    : n_classes: Number of classes\n",
    "    : return: Tensor for label input.\n",
    "    \"\"\"\n",
    "    # TODO: Implement Function\n",
    "    return tf.placeholder(tf.float32, shape = [None, n_classes], name = \"y\")\n",
    "\n",
    "\n",
    "def neural_net_keep_prob_input():\n",
    "    \"\"\"\n",
    "    Return a Tensor for keep probability\n",
    "    : return: Tensor for keep probability.\n",
    "    \"\"\"\n",
    "    # TODO: Implement Function\n",
    "    return tf.placeholder(tf.float32, name='keep_prob')\n",
    "\n",
    "\n",
    "\"\"\"\n",
    "DON'T MODIFY ANYTHING IN THIS CELL THAT IS BELOW THIS LINE\n",
    "\"\"\"\n",
    "tf.reset_default_graph()\n",
    "tests.test_nn_image_inputs(neural_net_image_input)\n",
    "tests.test_nn_label_inputs(neural_net_label_input)\n",
    "tests.test_nn_keep_prob_inputs(neural_net_keep_prob_input)"
   ]
  },
  {
   "cell_type": "markdown",
   "metadata": {
    "deletable": true,
    "editable": true
   },
   "source": [
    "### Convolution and Max Pooling Layer\n",
    "Convolution layers have a lot of success with images. For this code cell, you should implement the function `conv2d_maxpool` to apply convolution then max pooling:\n",
    "* Create the weight and bias using `conv_ksize`, `conv_num_outputs` and the shape of `x_tensor`.\n",
    "* Apply a convolution to `x_tensor` using weight and `conv_strides`.\n",
    " * We recommend you use same padding, but you're welcome to use any padding.\n",
    "* Add bias\n",
    "* Add a nonlinear activation to the convolution.\n",
    "* Apply Max Pooling using `pool_ksize` and `pool_strides`.\n",
    " * We recommend you use same padding, but you're welcome to use any padding.\n",
    "\n",
    "**Note:** You **can't** use [TensorFlow Layers](https://www.tensorflow.org/api_docs/python/tf/layers) or [TensorFlow Layers (contrib)](https://www.tensorflow.org/api_guides/python/contrib.layers) for **this** layer, but you can still use TensorFlow's [Neural Network](https://www.tensorflow.org/api_docs/python/tf/nn) package. You may still use the shortcut option for all the **other** layers."
   ]
  },
  {
   "cell_type": "code",
   "execution_count": 101,
   "metadata": {
    "collapsed": false,
    "deletable": true,
    "editable": true
   },
   "outputs": [
    {
     "name": "stdout",
     "output_type": "stream",
     "text": [
      "Tests Passed\n"
     ]
    }
   ],
   "source": [
    "def conv2d_maxpool(x_tensor, conv_num_outputs, conv_ksize, conv_strides, pool_ksize, pool_strides):\n",
    "    \"\"\"\n",
    "    Apply convolution then max pooling to x_tensor\n",
    "    :param x_tensor: TensorFlow Tensor\n",
    "    :param conv_num_outputs: Number of outputs for the convolutional layer\n",
    "    :param conv_ksize: kernal size 2-D Tuple for the convolutional layer\n",
    "    :param conv_strides: Stride 2-D Tuple for convolution\n",
    "    :param pool_ksize: kernal size 2-D Tuple for pool\n",
    "    :param pool_strides: Stride 2-D Tuple for pool\n",
    "    : return: A tensor that represents convolution and max pooling of x_tensor\n",
    "    \"\"\"\n",
    "    # TODO: Implement Function\n",
    "    input_channel_depth = int(x_tensor.get_shape()[3])\n",
    "    # The shape of the filter weight is (height, width, input_depth, output_depth)\n",
    "    filter_weights = tf.Variable(tf.truncated_normal([*conv_ksize, input_channel_depth, conv_num_outputs], dtype=tf.float32))\n",
    "    #filter_bias = tf.Variable(tf.truncated_normal([conv_num_outputs], dtype=tf.float32))\n",
    "    #filter_weights = tf.Variable(tf.random_normal([*conv_ksize, x_tensor.get_shape().as_list()[3], conv_num_outputs])\n",
    "\n",
    "\n",
    "    # The shape of the biases is equal the the number of outputs of the conv layer\n",
    "    filter_biases = tf.Variable(tf.constant(0, shape=[conv_num_outputs], dtype=tf.float32))\n",
    "    \n",
    "    layer = tf.nn.conv2d(input=x_tensor, filter=filter_weights, strides=[1, *conv_strides, 1], padding='SAME')\n",
    "    \n",
    "    layer = tf.add(layer, filter_biases)\n",
    "    \n",
    "    layer = tf.nn.relu(layer)\n",
    "    layer = tf.nn.max_pool(layer, [1, *pool_ksize, 1], strides=[1, *pool_strides, 1], padding='SAME')\n",
    "     \n",
    "    \n",
    "    return layer ####\n",
    "     \n",
    "\n",
    "\n",
    "\"\"\"\n",
    "DON'T MODIFY ANYTHING IN THIS CELL THAT IS BELOW THIS LINE\n",
    "\"\"\"\n",
    "tests.test_con_pool(conv2d_maxpool)"
   ]
  },
  {
   "cell_type": "code",
   "execution_count": 67,
   "metadata": {
    "collapsed": false
   },
   "outputs": [
    {
     "ename": "SyntaxError",
     "evalue": "unexpected character after line continuation character (<ipython-input-67-447c3eabb91b>, line 3)",
     "output_type": "error",
     "traceback": [
      "\u001b[0;36m  File \u001b[0;32m\"<ipython-input-67-447c3eabb91b>\"\u001b[0;36m, line \u001b[0;32m3\u001b[0m\n\u001b[0;31m    weights = \\\u001b[0m\n\u001b[0m                ^\u001b[0m\n\u001b[0;31mSyntaxError\u001b[0m\u001b[0;31m:\u001b[0m unexpected character after line continuation character\n"
     ]
    }
   ],
   "source": [
    "                   "
   ]
  },
  {
   "cell_type": "code",
   "execution_count": 100,
   "metadata": {
    "collapsed": false
   },
   "outputs": [
    {
     "name": "stdout",
     "output_type": "stream",
     "text": [
      "Tests Passed\n"
     ]
    }
   ],
   "source": []
  },
  {
   "cell_type": "code",
   "execution_count": null,
   "metadata": {
    "collapsed": true
   },
   "outputs": [],
   "source": []
  },
  {
   "cell_type": "markdown",
   "metadata": {
    "deletable": true,
    "editable": true
   },
   "source": [
    "### Flatten Layer\n",
    "Implement the `flatten` function to change the dimension of `x_tensor` from a 4-D tensor to a 2-D tensor.  The output should be the shape (*Batch Size*, *Flattened Image Size*). Shortcut option: you can use classes from the [TensorFlow Layers](https://www.tensorflow.org/api_docs/python/tf/layers) or [TensorFlow Layers (contrib)](https://www.tensorflow.org/api_guides/python/contrib.layers) packages for this layer. For more of a challenge, only use other TensorFlow packages."
   ]
  },
  {
   "cell_type": "code",
   "execution_count": 26,
   "metadata": {
    "collapsed": false,
    "deletable": true,
    "editable": true
   },
   "outputs": [
    {
     "name": "stdout",
     "output_type": "stream",
     "text": [
      "Tests Passed\n"
     ]
    }
   ],
   "source": [
    "def flatten(x_tensor):\n",
    "    return tf.contrib.layers.flatten(x_tensor)\n",
    "\n",
    "tests.test_flatten(flatten)"
   ]
  },
  {
   "cell_type": "markdown",
   "metadata": {
    "deletable": true,
    "editable": true
   },
   "source": [
    "### Fully-Connected Layer\n",
    "Implement the `fully_conn` function to apply a fully connected layer to `x_tensor` with the shape (*Batch Size*, *num_outputs*). Shortcut option: you can use classes from the [TensorFlow Layers](https://www.tensorflow.org/api_docs/python/tf/layers) or [TensorFlow Layers (contrib)](https://www.tensorflow.org/api_guides/python/contrib.layers) packages for this layer. For more of a challenge, only use other TensorFlow packages."
   ]
  },
  {
   "cell_type": "code",
   "execution_count": 27,
   "metadata": {
    "collapsed": false,
    "deletable": true,
    "editable": true
   },
   "outputs": [
    {
     "name": "stdout",
     "output_type": "stream",
     "text": [
      "Tests Passed\n"
     ]
    }
   ],
   "source": [
    "def fully_conn(x_tensor, num_outputs):\n",
    "    \"\"\"\n",
    "    Apply a fully connected layer to x_tensor using weight and bias\n",
    "    : x_tensor: A 2-D tensor where the first dimension is batch size.\n",
    "    : num_outputs: The number of output that the new tensor should be.\n",
    "    : return: A 2-D tensor where the second dimension is num_outputs.\n",
    "    \"\"\"\n",
    "    # TODO: Implement Function\n",
    "    datasize = x_tensor.get_shape().as_list()[1]\n",
    "    weight = tf.Variable(tf.truncated_normal([datasize, num_outputs],mean=0.0, stddev=0.05, dtype=tf.float32, seed=None, name=None))\n",
    "   \n",
    "    bias = tf.Variable(tf.zeros(num_outputs))\n",
    "    out = tf.add(tf.matmul(x_tensor, weight), bias)\n",
    "    return tf.nn.relu(out)\n",
    "    \n",
    "\n",
    "\"\"\"\n",
    "DON'T MODIFY ANYTHING IN THIS CELL THAT IS BELOW THIS LINE\n",
    "\"\"\"\n",
    "tests.test_fully_conn(fully_conn)"
   ]
  },
  {
   "cell_type": "markdown",
   "metadata": {
    "deletable": true,
    "editable": true
   },
   "source": [
    "### Output Layer\n",
    "Implement the `output` function to apply a fully connected layer to `x_tensor` with the shape (*Batch Size*, *num_outputs*). Shortcut option: you can use classes from the [TensorFlow Layers](https://www.tensorflow.org/api_docs/python/tf/layers) or [TensorFlow Layers (contrib)](https://www.tensorflow.org/api_guides/python/contrib.layers) packages for this layer. For more of a challenge, only use other TensorFlow packages.\n",
    "\n",
    "**Note:** Activation, softmax, or cross entropy should **not** be applied to this."
   ]
  },
  {
   "cell_type": "code",
   "execution_count": 28,
   "metadata": {
    "collapsed": false,
    "deletable": true,
    "editable": true
   },
   "outputs": [
    {
     "name": "stdout",
     "output_type": "stream",
     "text": [
      "Tests Passed\n"
     ]
    }
   ],
   "source": [
    "def output(x_tensor, num_outputs):\n",
    "    \"\"\"\n",
    "    Apply a output layer to x_tensor using weight and bias\n",
    "    : x_tensor: A 2-D tensor where the first dimension is batch size.\n",
    "    : num_outputs: The number of output that the new tensor should be.\n",
    "    : return: A 2-D tensor where the second dimension is num_outputs.\n",
    "    \"\"\"\n",
    "    # TODO: Implement Function\n",
    "   \n",
    "    weight = tf.Variable(tf.random_normal([x_tensor.get_shape().as_list()[1], num_outputs]))\n",
    "\n",
    "\n",
    "    bias = tf.Variable(tf.random_normal([num_outputs]))\n",
    "    output = tf.add(tf.matmul(x_tensor, weight), bias)\n",
    "    return output\n",
    "\n",
    "\"\"\"\n",
    "DON'T MODIFY ANYTHING IN THIS CELL THAT IS BELOW THIS LINE\n",
    "\"\"\"\n",
    "tests.test_output(output)"
   ]
  },
  {
   "cell_type": "markdown",
   "metadata": {
    "deletable": true,
    "editable": true
   },
   "source": [
    "### Create Convolutional Model\n",
    "Implement the function `conv_net` to create a convolutional neural network model. The function takes in a batch of images, `x`, and outputs logits.  Use the layers you created above to create this model:\n",
    "\n",
    "* Apply 1, 2, or 3 Convolution and Max Pool layers\n",
    "* Apply a Flatten Layer\n",
    "* Apply 1, 2, or 3 Fully Connected Layers\n",
    "* Apply an Output Layer\n",
    "* Return the output\n",
    "* Apply [TensorFlow's Dropout](https://www.tensorflow.org/api_docs/python/tf/nn/dropout) to one or more layers in the model using `keep_prob`. "
   ]
  },
  {
   "cell_type": "code",
   "execution_count": 109,
   "metadata": {
    "collapsed": false,
    "deletable": true,
    "editable": true
   },
   "outputs": [
    {
     "name": "stdout",
     "output_type": "stream",
     "text": [
      "Neural Network Built!\n"
     ]
    }
   ],
   "source": [
    "def conv_net(x, keep_prob):\n",
    "    # Convolutional layer_1\n",
    "    conv_strides = (1, 1)\n",
    "    conv_ksize = (4, 4) \n",
    "    conv_num_outputs = 8\n",
    "    pool_ksize = (4, 4)\n",
    "    pool_strides = (2, 2)\n",
    "    \n",
    "    layer_convolutional_1 = conv2d_maxpool(x, conv_num_outputs, conv_ksize, conv_strides, pool_ksize, pool_strides)\n",
    "    \n",
    "    # Convolutional layer_2\n",
    "    conv_strides_2 = (1, 1)\n",
    "    conv_ksize_2 = (4, 4) \n",
    "    conv_num_outputs_2 = 32\n",
    "    pool_ksize_2 = (4, 4)\n",
    "    pool_strides_2 = (2, 2)\n",
    "    \n",
    "    layer_convolutional_2 = conv2d_maxpool(layer_convolutional_1, conv_num_outputs_2, conv_ksize_2, conv_strides_2, pool_ksize_2, pool_strides_2)\n",
    "    \n",
    "   \n",
    "   \n",
    "    # Flatten layer\n",
    "    layer_flatten = flatten(layer_convolutional_2)\n",
    "    \n",
    "    # Fully connected layer\n",
    "    num_outputs_1 = 150\n",
    "    num_outputs_2 = 100\n",
    "    num_outputs_3 = 50\n",
    "    \n",
    "    fully_connected_layer_1 = fully_conn(layer_flatten, num_outputs_1)\n",
    "    dropout = tf.nn.dropout(fully_connected_layer_1, keep_prob)\n",
    "    fully_connected_layer_2 = fully_conn(dropout, num_outputs_2)\n",
    "    fully_connected_layer_3 = fully_conn(fully_connected_layer_2, num_outputs_3)\n",
    "    \n",
    "    # Output layer\n",
    "    output_layer = output(fully_connected_layer_3, 10) \n",
    "    \n",
    "    return output_layer\n",
    "\n",
    "\n",
    "\"\"\"\n",
    "DON'T MODIFY ANYTHING IN THIS CELL THAT IS BELOW THIS LINE\n",
    "\"\"\"\n",
    "\n",
    "##############################\n",
    "## Build the Neural Network ##\n",
    "##############################\n",
    "\n",
    "# Remove previous weights, bias, inputs, etc..\n",
    "tf.reset_default_graph()\n",
    "\n",
    "# Inputs\n",
    "x = neural_net_image_input((32, 32, 3))\n",
    "y = neural_net_label_input(10)\n",
    "keep_prob = neural_net_keep_prob_input()\n",
    "\n",
    "# Model\n",
    "logits = conv_net(x, keep_prob)\n",
    "\n",
    "# Name logits Tensor, so that is can be loaded from disk after training\n",
    "logits = tf.identity(logits, name='logits')\n",
    "\n",
    "# Loss and Optimizer\n",
    "cost = tf.reduce_mean(tf.nn.softmax_cross_entropy_with_logits(logits=logits, labels=y))\n",
    "optimizer = tf.train.AdamOptimizer().minimize(cost)\n",
    "\n",
    "# Accuracy\n",
    "correct_pred = tf.equal(tf.argmax(logits, 1), tf.argmax(y, 1))\n",
    "accuracy = tf.reduce_mean(tf.cast(correct_pred, tf.float32), name='accuracy')\n",
    "\n",
    "tests.test_conv_net(conv_net)"
   ]
  },
  {
   "cell_type": "markdown",
   "metadata": {
    "deletable": true,
    "editable": true
   },
   "source": [
    "## Train the Neural Network\n",
    "### Single Optimization\n",
    "Implement the function `train_neural_network` to do a single optimization.  The optimization should use `optimizer` to optimize in `session` with a `feed_dict` of the following:\n",
    "* `x` for image input\n",
    "* `y` for labels\n",
    "* `keep_prob` for keep probability for dropout\n",
    "\n",
    "This function will be called for each batch, so `tf.global_variables_initializer()` has already been called.\n",
    "\n",
    "Note: Nothing needs to be returned. This function is only optimizing the neural network."
   ]
  },
  {
   "cell_type": "code",
   "execution_count": 30,
   "metadata": {
    "collapsed": false,
    "deletable": true,
    "editable": true
   },
   "outputs": [
    {
     "name": "stdout",
     "output_type": "stream",
     "text": [
      "Tests Passed\n"
     ]
    }
   ],
   "source": [
    "def train_neural_network(session, optimizer, keep_probability, feature_batch, label_batch):\n",
    "    \"\"\"\n",
    "    Optimize the session on a batch of images and labels\n",
    "    : session: Current TensorFlow session\n",
    "    : optimizer: TensorFlow optimizer function\n",
    "    : keep_probability: keep probability\n",
    "    : feature_batch: Batch of Numpy image data\n",
    "    : label_batch: Batch of Numpy label data\n",
    "    \"\"\"\n",
    "    # TODO: Implement Function\n",
    "    session.run(optimizer, feed_dict={x: feature_batch, y: label_batch, keep_prob: keep_probability})\n",
    "    pass\n",
    "\n",
    "\n",
    "\"\"\"\n",
    "DON'T MODIFY ANYTHING IN THIS CELL THAT IS BELOW THIS LINE\n",
    "\"\"\"\n",
    "tests.test_train_nn(train_neural_network)"
   ]
  },
  {
   "cell_type": "markdown",
   "metadata": {
    "deletable": true,
    "editable": true
   },
   "source": [
    "### Show Stats\n",
    "Implement the function `print_stats` to print loss and validation accuracy.  Use the global variables `valid_features` and `valid_labels` to calculate validation accuracy.  Use a keep probability of `1.0` to calculate the loss and validation accuracy."
   ]
  },
  {
   "cell_type": "code",
   "execution_count": 31,
   "metadata": {
    "collapsed": false,
    "deletable": true,
    "editable": true
   },
   "outputs": [],
   "source": [
    "def print_stats(session, feature_batch, label_batch, cost, accuracy):\n",
    "    \"\"\"\n",
    "    Print information about loss and validation accuracy\n",
    "    : session: Current TensorFlow session\n",
    "    : feature_batch: Batch of Numpy image data\n",
    "    : label_batch: Batch of Numpy label data\n",
    "    : cost: TensorFlow cost function\n",
    "    : accuracy: TensorFlow accuracy function\n",
    "    \"\"\"\n",
    "    # TODO: Implement Function\n",
    "    loss = session.run(cost, feed_dict={x: feature_batch, y: label_batch, keep_prob: 1.0})\n",
    "    accuracy = session.run(accuracy, feed_dict={x: valid_features, y: valid_labels, keep_prob: 1.0})\n",
    "    print(\"Loss: {}\".format(loss))\n",
    "    print(\"Accuracy: {}\".format(accuracy))\n",
    "    pass"
   ]
  },
  {
   "cell_type": "markdown",
   "metadata": {
    "deletable": true,
    "editable": true
   },
   "source": [
    "### Hyperparameters\n",
    "Tune the following parameters:\n",
    "* Set `epochs` to the number of iterations until the network stops learning or start overfitting\n",
    "* Set `batch_size` to the highest number that your machine has memory for.  Most people set them to common sizes of memory:\n",
    " * 64\n",
    " * 128\n",
    " * 256\n",
    " * ...\n",
    "* Set `keep_probability` to the probability of keeping a node using dropout"
   ]
  },
  {
   "cell_type": "code",
   "execution_count": 73,
   "metadata": {
    "collapsed": true,
    "deletable": true,
    "editable": true
   },
   "outputs": [],
   "source": [
    "# TODO: Tune Parameters\n",
    "epochs = 50\n",
    "batch_size = 128\n",
    "keep_probability = 0.75"
   ]
  },
  {
   "cell_type": "markdown",
   "metadata": {
    "deletable": true,
    "editable": true
   },
   "source": [
    "### Train on a Single CIFAR-10 Batch\n",
    "Instead of training the neural network on all the CIFAR-10 batches of data, let's use a single batch. This should save time while you iterate on the model to get a better accuracy.  Once the final validation accuracy is 50% or greater, run the model on all the data in the next section."
   ]
  },
  {
   "cell_type": "code",
   "execution_count": 110,
   "metadata": {
    "collapsed": false,
    "deletable": true,
    "editable": true
   },
   "outputs": [
    {
     "name": "stdout",
     "output_type": "stream",
     "text": [
      "Checking the Training on a Single Batch...\n",
      "Epoch  1, CIFAR-10 Batch 1:  Loss: 2.4583024978637695\n",
      "Accuracy: 0.1671999990940094\n",
      "Epoch  2, CIFAR-10 Batch 1:  Loss: 2.4006690979003906\n",
      "Accuracy: 0.18019999563694\n",
      "Epoch  3, CIFAR-10 Batch 1:  Loss: 2.378527879714966\n",
      "Accuracy: 0.21779999136924744\n",
      "Epoch  4, CIFAR-10 Batch 1:  Loss: 2.316633701324463\n",
      "Accuracy: 0.22919999063014984\n",
      "Epoch  5, CIFAR-10 Batch 1:  Loss: 2.1171839237213135\n",
      "Accuracy: 0.26739999651908875\n",
      "Epoch  6, CIFAR-10 Batch 1:  Loss: 2.0840036869049072\n",
      "Accuracy: 0.29100000858306885\n",
      "Epoch  7, CIFAR-10 Batch 1:  Loss: 1.9892497062683105\n",
      "Accuracy: 0.3147999942302704\n",
      "Epoch  8, CIFAR-10 Batch 1:  Loss: 1.9389137029647827\n",
      "Accuracy: 0.3677999675273895\n",
      "Epoch  9, CIFAR-10 Batch 1:  Loss: 1.9094887971878052\n",
      "Accuracy: 0.34539997577667236\n",
      "Epoch 10, CIFAR-10 Batch 1:  Loss: 1.8570668697357178\n",
      "Accuracy: 0.3736000061035156\n",
      "Epoch 11, CIFAR-10 Batch 1:  Loss: 1.8002773523330688\n",
      "Accuracy: 0.3823999762535095\n",
      "Epoch 12, CIFAR-10 Batch 1:  Loss: 1.72503662109375\n",
      "Accuracy: 0.4063999354839325\n",
      "Epoch 13, CIFAR-10 Batch 1:  Loss: 1.6803297996520996\n",
      "Accuracy: 0.42499998211860657\n",
      "Epoch 14, CIFAR-10 Batch 1:  Loss: 1.6819911003112793\n",
      "Accuracy: 0.3929999768733978\n",
      "Epoch 15, CIFAR-10 Batch 1:  Loss: 1.570694088935852\n",
      "Accuracy: 0.42959997057914734\n",
      "Epoch 16, CIFAR-10 Batch 1:  Loss: 1.6205233335494995\n",
      "Accuracy: 0.41679996252059937\n",
      "Epoch 17, CIFAR-10 Batch 1:  Loss: 1.581059217453003\n",
      "Accuracy: 0.4325999617576599\n",
      "Epoch 18, CIFAR-10 Batch 1:  Loss: 1.4682118892669678\n",
      "Accuracy: 0.451200008392334\n",
      "Epoch 19, CIFAR-10 Batch 1:  Loss: 1.4375903606414795\n",
      "Accuracy: 0.4585999846458435\n",
      "Epoch 20, CIFAR-10 Batch 1:  Loss: 1.4050729274749756\n",
      "Accuracy: 0.459199994802475\n",
      "Epoch 21, CIFAR-10 Batch 1:  Loss: 1.4155597686767578\n",
      "Accuracy: 0.4743999242782593\n",
      "Epoch 22, CIFAR-10 Batch 1:  Loss: 1.3400729894638062\n",
      "Accuracy: 0.4843999743461609\n",
      "Epoch 23, CIFAR-10 Batch 1:  Loss: 1.3238872289657593\n",
      "Accuracy: 0.4753999710083008\n",
      "Epoch 24, CIFAR-10 Batch 1:  Loss: 1.3832778930664062\n",
      "Accuracy: 0.45319998264312744\n",
      "Epoch 25, CIFAR-10 Batch 1:  Loss: 1.3124059438705444\n",
      "Accuracy: 0.4779999554157257\n",
      "Epoch 26, CIFAR-10 Batch 1:  Loss: 1.3412237167358398\n",
      "Accuracy: 0.4747999608516693\n",
      "Epoch 27, CIFAR-10 Batch 1:  Loss: 1.2872554063796997\n",
      "Accuracy: 0.4779999852180481\n",
      "Epoch 28, CIFAR-10 Batch 1:  Loss: 1.211575984954834\n",
      "Accuracy: 0.4941999316215515\n",
      "Epoch 29, CIFAR-10 Batch 1:  Loss: 1.244142770767212\n",
      "Accuracy: 0.4939999580383301\n",
      "Epoch 30, CIFAR-10 Batch 1:  Loss: 1.252950668334961\n",
      "Accuracy: 0.49279993772506714\n",
      "Epoch 31, CIFAR-10 Batch 1:  Loss: 1.217775583267212\n",
      "Accuracy: 0.4989999532699585\n",
      "Epoch 32, CIFAR-10 Batch 1:  Loss: 1.1913269758224487\n",
      "Accuracy: 0.4915999472141266\n",
      "Epoch 33, CIFAR-10 Batch 1:  Loss: 1.1369335651397705\n",
      "Accuracy: 0.5117999315261841\n",
      "Epoch 34, CIFAR-10 Batch 1:  Loss: 1.1119930744171143\n",
      "Accuracy: 0.5057999491691589\n",
      "Epoch 35, CIFAR-10 Batch 1:  Loss: 1.1325863599777222\n",
      "Accuracy: 0.5049999356269836\n",
      "Epoch 36, CIFAR-10 Batch 1:  Loss: 1.1033447980880737\n",
      "Accuracy: 0.5121999979019165\n",
      "Epoch 37, CIFAR-10 Batch 1:  Loss: 1.087762475013733\n",
      "Accuracy: 0.5067999362945557\n",
      "Epoch 38, CIFAR-10 Batch 1:  Loss: 1.088193416595459\n",
      "Accuracy: 0.4967999756336212\n",
      "Epoch 39, CIFAR-10 Batch 1:  Loss: 1.1353710889816284\n",
      "Accuracy: 0.4909999966621399\n",
      "Epoch 40, CIFAR-10 Batch 1:  Loss: 1.0679482221603394\n",
      "Accuracy: 0.5051999688148499\n",
      "Epoch 41, CIFAR-10 Batch 1:  Loss: 1.0053071975708008\n",
      "Accuracy: 0.5015999674797058\n",
      "Epoch 42, CIFAR-10 Batch 1:  Loss: 0.987476646900177\n",
      "Accuracy: 0.5221999287605286\n",
      "Epoch 43, CIFAR-10 Batch 1:  Loss: 1.0104243755340576\n",
      "Accuracy: 0.5071999430656433\n",
      "Epoch 44, CIFAR-10 Batch 1:  Loss: 0.951237678527832\n",
      "Accuracy: 0.5195999145507812\n",
      "Epoch 45, CIFAR-10 Batch 1:  Loss: 0.9310407042503357\n",
      "Accuracy: 0.5179999470710754\n",
      "Epoch 46, CIFAR-10 Batch 1:  Loss: 0.909041166305542\n",
      "Accuracy: 0.5229999423027039\n",
      "Epoch 47, CIFAR-10 Batch 1:  Loss: 0.9141207933425903\n",
      "Accuracy: 0.5127999782562256\n",
      "Epoch 48, CIFAR-10 Batch 1:  Loss: 0.8515264987945557\n",
      "Accuracy: 0.5255999565124512\n",
      "Epoch 49, CIFAR-10 Batch 1:  Loss: 0.8199796676635742\n",
      "Accuracy: 0.5179999470710754\n",
      "Epoch 50, CIFAR-10 Batch 1:  Loss: 0.8419190645217896\n",
      "Accuracy: 0.5259999632835388\n"
     ]
    }
   ],
   "source": [
    "\"\"\"\n",
    "DON'T MODIFY ANYTHING IN THIS CELL\n",
    "\"\"\"\n",
    "print('Checking the Training on a Single Batch...')\n",
    "with tf.Session() as sess:\n",
    "    # Initializing the variables\n",
    "    sess.run(tf.global_variables_initializer())\n",
    "    \n",
    "    # Training cycle\n",
    "    for epoch in range(epochs):\n",
    "        batch_i = 1\n",
    "        for batch_features, batch_labels in helper.load_preprocess_training_batch(batch_i, batch_size):\n",
    "            train_neural_network(sess, optimizer, keep_probability, batch_features, batch_labels)\n",
    "        print('Epoch {:>2}, CIFAR-10 Batch {}:  '.format(epoch + 1, batch_i), end='')\n",
    "        print_stats(sess, batch_features, batch_labels, cost, accuracy)"
   ]
  },
  {
   "cell_type": "markdown",
   "metadata": {
    "deletable": true,
    "editable": true
   },
   "source": [
    "### Fully Train the Model\n",
    "Now that you got a good accuracy with a single CIFAR-10 batch, try it with all five batches."
   ]
  },
  {
   "cell_type": "code",
   "execution_count": 111,
   "metadata": {
    "collapsed": false,
    "deletable": true,
    "editable": true
   },
   "outputs": [
    {
     "name": "stdout",
     "output_type": "stream",
     "text": [
      "Training...\n",
      "Epoch  1, CIFAR-10 Batch 1:  Loss: 2.2104392051696777\n",
      "Accuracy: 0.19859997928142548\n",
      "Epoch  1, CIFAR-10 Batch 2:  Loss: 2.1155848503112793\n",
      "Accuracy: 0.25760000944137573\n",
      "Epoch  1, CIFAR-10 Batch 3:  Loss: 1.9046995639801025\n",
      "Accuracy: 0.284199982881546\n",
      "Epoch  1, CIFAR-10 Batch 4:  Loss: 1.829496145248413\n",
      "Accuracy: 0.32499998807907104\n",
      "Epoch  1, CIFAR-10 Batch 5:  Loss: 1.8093993663787842\n",
      "Accuracy: 0.3431999683380127\n",
      "Epoch  2, CIFAR-10 Batch 1:  Loss: 2.1019158363342285\n",
      "Accuracy: 0.33980000019073486\n",
      "Epoch  2, CIFAR-10 Batch 2:  Loss: 1.7693120241165161\n",
      "Accuracy: 0.3700000047683716\n",
      "Epoch  2, CIFAR-10 Batch 3:  Loss: 1.622837781906128\n",
      "Accuracy: 0.3887999653816223\n",
      "Epoch  2, CIFAR-10 Batch 4:  Loss: 1.5212780237197876\n",
      "Accuracy: 0.387800008058548\n",
      "Epoch  2, CIFAR-10 Batch 5:  Loss: 1.571810007095337\n",
      "Accuracy: 0.39139997959136963\n",
      "Epoch  3, CIFAR-10 Batch 1:  Loss: 1.8974705934524536\n",
      "Accuracy: 0.36879998445510864\n",
      "Epoch  3, CIFAR-10 Batch 2:  Loss: 1.630340814590454\n",
      "Accuracy: 0.4187999665737152\n",
      "Epoch  3, CIFAR-10 Batch 3:  Loss: 1.5740034580230713\n",
      "Accuracy: 0.4031999707221985\n",
      "Epoch  3, CIFAR-10 Batch 4:  Loss: 1.494422435760498\n",
      "Accuracy: 0.4267999529838562\n",
      "Epoch  3, CIFAR-10 Batch 5:  Loss: 1.4641205072402954\n",
      "Accuracy: 0.45219993591308594\n",
      "Epoch  4, CIFAR-10 Batch 1:  Loss: 1.6862685680389404\n",
      "Accuracy: 0.4431999921798706\n",
      "Epoch  4, CIFAR-10 Batch 2:  Loss: 1.669684886932373\n",
      "Accuracy: 0.4228000044822693\n",
      "Epoch  4, CIFAR-10 Batch 3:  Loss: 1.4560543298721313\n",
      "Accuracy: 0.41339999437332153\n",
      "Epoch  4, CIFAR-10 Batch 4:  Loss: 1.429970145225525\n",
      "Accuracy: 0.45419996976852417\n",
      "Epoch  4, CIFAR-10 Batch 5:  Loss: 1.424056053161621\n",
      "Accuracy: 0.46719998121261597\n",
      "Epoch  5, CIFAR-10 Batch 1:  Loss: 1.5787547826766968\n",
      "Accuracy: 0.4519999623298645\n",
      "Epoch  5, CIFAR-10 Batch 2:  Loss: 1.5009706020355225\n",
      "Accuracy: 0.44519996643066406\n",
      "Epoch  5, CIFAR-10 Batch 3:  Loss: 1.3525476455688477\n",
      "Accuracy: 0.449199914932251\n",
      "Epoch  5, CIFAR-10 Batch 4:  Loss: 1.440761685371399\n",
      "Accuracy: 0.4625999629497528\n",
      "Epoch  5, CIFAR-10 Batch 5:  Loss: 1.3367021083831787\n",
      "Accuracy: 0.47519993782043457\n",
      "Epoch  6, CIFAR-10 Batch 1:  Loss: 1.5769264698028564\n",
      "Accuracy: 0.473999947309494\n",
      "Epoch  6, CIFAR-10 Batch 2:  Loss: 1.4635695219039917\n",
      "Accuracy: 0.462399959564209\n",
      "Epoch  6, CIFAR-10 Batch 3:  Loss: 1.323242425918579\n",
      "Accuracy: 0.47699999809265137\n",
      "Epoch  6, CIFAR-10 Batch 4:  Loss: 1.3090825080871582\n",
      "Accuracy: 0.4959999918937683\n",
      "Epoch  6, CIFAR-10 Batch 5:  Loss: 1.270745873451233\n",
      "Accuracy: 0.50819993019104\n",
      "Epoch  7, CIFAR-10 Batch 1:  Loss: 1.4319043159484863\n",
      "Accuracy: 0.5065999031066895\n",
      "Epoch  7, CIFAR-10 Batch 2:  Loss: 1.494835615158081\n",
      "Accuracy: 0.4899999797344208\n",
      "Epoch  7, CIFAR-10 Batch 3:  Loss: 1.2648296356201172\n",
      "Accuracy: 0.49539995193481445\n",
      "Epoch  7, CIFAR-10 Batch 4:  Loss: 1.3152109384536743\n",
      "Accuracy: 0.4973999261856079\n",
      "Epoch  7, CIFAR-10 Batch 5:  Loss: 1.2663800716400146\n",
      "Accuracy: 0.5113999247550964\n",
      "Epoch  8, CIFAR-10 Batch 1:  Loss: 1.4177277088165283\n",
      "Accuracy: 0.5179998874664307\n",
      "Epoch  8, CIFAR-10 Batch 2:  Loss: 1.2831963300704956\n",
      "Accuracy: 0.4997999668121338\n",
      "Epoch  8, CIFAR-10 Batch 3:  Loss: 1.1904354095458984\n",
      "Accuracy: 0.5095999240875244\n",
      "Epoch  8, CIFAR-10 Batch 4:  Loss: 1.2553786039352417\n",
      "Accuracy: 0.5031999349594116\n",
      "Epoch  8, CIFAR-10 Batch 5:  Loss: 1.2708221673965454\n",
      "Accuracy: 0.5087999701499939\n",
      "Epoch  9, CIFAR-10 Batch 1:  Loss: 1.2091917991638184\n",
      "Accuracy: 0.5119999051094055\n",
      "Epoch  9, CIFAR-10 Batch 2:  Loss: 1.2861582040786743\n",
      "Accuracy: 0.5121999382972717\n",
      "Epoch  9, CIFAR-10 Batch 3:  Loss: 1.204300880432129\n",
      "Accuracy: 0.5137999057769775\n",
      "Epoch  9, CIFAR-10 Batch 4:  Loss: 1.2545692920684814\n",
      "Accuracy: 0.5243999361991882\n",
      "Epoch  9, CIFAR-10 Batch 5:  Loss: 1.1749829053878784\n",
      "Accuracy: 0.5331999063491821\n",
      "Epoch 10, CIFAR-10 Batch 1:  Loss: 1.2410857677459717\n",
      "Accuracy: 0.5267999172210693\n",
      "Epoch 10, CIFAR-10 Batch 2:  Loss: 1.2089018821716309\n",
      "Accuracy: 0.520799994468689\n",
      "Epoch 10, CIFAR-10 Batch 3:  Loss: 1.1854897737503052\n",
      "Accuracy: 0.5179999470710754\n",
      "Epoch 10, CIFAR-10 Batch 4:  Loss: 1.193454384803772\n",
      "Accuracy: 0.5219999551773071\n",
      "Epoch 10, CIFAR-10 Batch 5:  Loss: 1.239272117614746\n",
      "Accuracy: 0.5233999490737915\n",
      "Epoch 11, CIFAR-10 Batch 1:  Loss: 1.1859257221221924\n",
      "Accuracy: 0.5375999212265015\n",
      "Epoch 11, CIFAR-10 Batch 2:  Loss: 1.1468405723571777\n",
      "Accuracy: 0.525999903678894\n",
      "Epoch 11, CIFAR-10 Batch 3:  Loss: 1.1148213148117065\n",
      "Accuracy: 0.5347999334335327\n",
      "Epoch 11, CIFAR-10 Batch 4:  Loss: 1.1523962020874023\n",
      "Accuracy: 0.5363999605178833\n",
      "Epoch 11, CIFAR-10 Batch 5:  Loss: 1.1831014156341553\n",
      "Accuracy: 0.531999945640564\n",
      "Epoch 12, CIFAR-10 Batch 1:  Loss: 1.1726887226104736\n",
      "Accuracy: 0.55159991979599\n",
      "Epoch 12, CIFAR-10 Batch 2:  Loss: 1.1775355339050293\n",
      "Accuracy: 0.5309999585151672\n",
      "Epoch 12, CIFAR-10 Batch 3:  Loss: 1.0988625288009644\n",
      "Accuracy: 0.5549999475479126\n",
      "Epoch 12, CIFAR-10 Batch 4:  Loss: 1.1300947666168213\n",
      "Accuracy: 0.5461999177932739\n",
      "Epoch 12, CIFAR-10 Batch 5:  Loss: 1.1334763765335083\n",
      "Accuracy: 0.5425999164581299\n",
      "Epoch 13, CIFAR-10 Batch 1:  Loss: 1.1646360158920288\n",
      "Accuracy: 0.5443999171257019\n",
      "Epoch 13, CIFAR-10 Batch 2:  Loss: 1.1449143886566162\n",
      "Accuracy: 0.530799925327301\n",
      "Epoch 13, CIFAR-10 Batch 3:  Loss: 1.1055432558059692\n",
      "Accuracy: 0.5527999401092529\n",
      "Epoch 13, CIFAR-10 Batch 4:  Loss: 1.0857452154159546\n",
      "Accuracy: 0.5525999665260315\n",
      "Epoch 13, CIFAR-10 Batch 5:  Loss: 1.1299058198928833\n",
      "Accuracy: 0.5473999381065369\n",
      "Epoch 14, CIFAR-10 Batch 1:  Loss: 1.12272047996521\n",
      "Accuracy: 0.5579999089241028\n",
      "Epoch 14, CIFAR-10 Batch 2:  Loss: 1.1187496185302734\n",
      "Accuracy: 0.5493999719619751\n",
      "Epoch 14, CIFAR-10 Batch 3:  Loss: 1.100469946861267\n",
      "Accuracy: 0.5311999320983887\n",
      "Epoch 14, CIFAR-10 Batch 4:  Loss: 1.084960699081421\n",
      "Accuracy: 0.5543999671936035\n",
      "Epoch 14, CIFAR-10 Batch 5:  Loss: 1.0671089887619019\n",
      "Accuracy: 0.549799919128418\n",
      "Epoch 15, CIFAR-10 Batch 1:  Loss: 1.0778276920318604\n",
      "Accuracy: 0.5705999732017517\n",
      "Epoch 15, CIFAR-10 Batch 2:  Loss: 1.130632996559143\n",
      "Accuracy: 0.5303999185562134\n",
      "Epoch 15, CIFAR-10 Batch 3:  Loss: 1.01063072681427\n",
      "Accuracy: 0.5481999516487122\n",
      "Epoch 15, CIFAR-10 Batch 4:  Loss: 1.0880751609802246\n",
      "Accuracy: 0.5553999543190002\n",
      "Epoch 15, CIFAR-10 Batch 5:  Loss: 1.0656147003173828\n",
      "Accuracy: 0.5525999665260315\n",
      "Epoch 16, CIFAR-10 Batch 1:  Loss: 1.0462507009506226\n",
      "Accuracy: 0.5555998682975769\n",
      "Epoch 16, CIFAR-10 Batch 2:  Loss: 1.1384575366973877\n",
      "Accuracy: 0.5515999794006348\n",
      "Epoch 16, CIFAR-10 Batch 3:  Loss: 0.9634400606155396\n",
      "Accuracy: 0.5701999664306641\n",
      "Epoch 16, CIFAR-10 Batch 4:  Loss: 1.0303875207901\n",
      "Accuracy: 0.5697999000549316\n",
      "Epoch 16, CIFAR-10 Batch 5:  Loss: 1.0217500925064087\n",
      "Accuracy: 0.5705998539924622\n",
      "Epoch 17, CIFAR-10 Batch 1:  Loss: 1.0529230833053589\n",
      "Accuracy: 0.5691999197006226\n",
      "Epoch 17, CIFAR-10 Batch 2:  Loss: 1.065629482269287\n",
      "Accuracy: 0.5689998865127563\n",
      "Epoch 17, CIFAR-10 Batch 3:  Loss: 1.010585904121399\n",
      "Accuracy: 0.5773999094963074\n",
      "Epoch 17, CIFAR-10 Batch 4:  Loss: 1.0619142055511475\n",
      "Accuracy: 0.5501999258995056\n",
      "Epoch 17, CIFAR-10 Batch 5:  Loss: 1.0465723276138306\n",
      "Accuracy: 0.5515999794006348\n",
      "Epoch 18, CIFAR-10 Batch 1:  Loss: 1.0354156494140625\n",
      "Accuracy: 0.5759998559951782\n",
      "Epoch 18, CIFAR-10 Batch 2:  Loss: 1.0525670051574707\n",
      "Accuracy: 0.549799919128418\n",
      "Epoch 18, CIFAR-10 Batch 3:  Loss: 0.9372913837432861\n",
      "Accuracy: 0.5745999813079834\n",
      "Epoch 18, CIFAR-10 Batch 4:  Loss: 1.0182182788848877\n",
      "Accuracy: 0.5623999834060669\n",
      "Epoch 18, CIFAR-10 Batch 5:  Loss: 0.9039474129676819\n",
      "Accuracy: 0.5731999278068542\n",
      "Epoch 19, CIFAR-10 Batch 1:  Loss: 1.0209290981292725\n",
      "Accuracy: 0.5845999121665955\n",
      "Epoch 19, CIFAR-10 Batch 2:  Loss: 1.0105431079864502\n",
      "Accuracy: 0.5565999150276184\n",
      "Epoch 19, CIFAR-10 Batch 3:  Loss: 0.9429389238357544\n",
      "Accuracy: 0.5623999238014221\n",
      "Epoch 19, CIFAR-10 Batch 4:  Loss: 1.0507434606552124\n",
      "Accuracy: 0.5787999033927917\n",
      "Epoch 19, CIFAR-10 Batch 5:  Loss: 0.9324802160263062\n",
      "Accuracy: 0.5747999548912048\n",
      "Epoch 20, CIFAR-10 Batch 1:  Loss: 0.9248924255371094\n",
      "Accuracy: 0.5815998911857605\n",
      "Epoch 20, CIFAR-10 Batch 2:  Loss: 1.075321912765503\n",
      "Accuracy: 0.5573999881744385\n",
      "Epoch 20, CIFAR-10 Batch 3:  Loss: 0.8786513805389404\n",
      "Accuracy: 0.5751999020576477\n",
      "Epoch 20, CIFAR-10 Batch 4:  Loss: 0.9989398717880249\n",
      "Accuracy: 0.5719999670982361\n",
      "Epoch 20, CIFAR-10 Batch 5:  Loss: 0.9524537324905396\n",
      "Accuracy: 0.5633999109268188\n",
      "Epoch 21, CIFAR-10 Batch 1:  Loss: 0.9222184419631958\n",
      "Accuracy: 0.5781998634338379\n",
      "Epoch 21, CIFAR-10 Batch 2:  Loss: 1.0340908765792847\n",
      "Accuracy: 0.5705999135971069\n",
      "Epoch 21, CIFAR-10 Batch 3:  Loss: 0.8895041942596436\n",
      "Accuracy: 0.5731999278068542\n",
      "Epoch 21, CIFAR-10 Batch 4:  Loss: 0.959863543510437\n",
      "Accuracy: 0.5803998708724976\n",
      "Epoch 21, CIFAR-10 Batch 5:  Loss: 0.9108812808990479\n",
      "Accuracy: 0.5755999684333801\n",
      "Epoch 22, CIFAR-10 Batch 1:  Loss: 0.8976788520812988\n",
      "Accuracy: 0.5689998865127563\n",
      "Epoch 22, CIFAR-10 Batch 2:  Loss: 0.9791567325592041\n",
      "Accuracy: 0.5669999122619629\n",
      "Epoch 22, CIFAR-10 Batch 3:  Loss: 0.9107320308685303\n",
      "Accuracy: 0.5809999108314514\n",
      "Epoch 22, CIFAR-10 Batch 4:  Loss: 0.9824960827827454\n",
      "Accuracy: 0.5683999061584473\n",
      "Epoch 22, CIFAR-10 Batch 5:  Loss: 0.9563112258911133\n",
      "Accuracy: 0.5767999291419983\n",
      "Epoch 23, CIFAR-10 Batch 1:  Loss: 0.9171477556228638\n",
      "Accuracy: 0.5817998647689819\n",
      "Epoch 23, CIFAR-10 Batch 2:  Loss: 0.9754374623298645\n",
      "Accuracy: 0.5679999589920044\n",
      "Epoch 23, CIFAR-10 Batch 3:  Loss: 0.9214773178100586\n",
      "Accuracy: 0.5779999494552612\n",
      "Epoch 23, CIFAR-10 Batch 4:  Loss: 0.9527462124824524\n",
      "Accuracy: 0.5679999589920044\n",
      "Epoch 23, CIFAR-10 Batch 5:  Loss: 0.8725025653839111\n",
      "Accuracy: 0.5657998919487\n",
      "Epoch 24, CIFAR-10 Batch 1:  Loss: 0.8628068566322327\n",
      "Accuracy: 0.5831999778747559\n",
      "Epoch 24, CIFAR-10 Batch 2:  Loss: 0.9391525983810425\n",
      "Accuracy: 0.579599916934967\n",
      "Epoch 24, CIFAR-10 Batch 3:  Loss: 0.93797767162323\n",
      "Accuracy: 0.5815999507904053\n",
      "Epoch 24, CIFAR-10 Batch 4:  Loss: 0.9573904275894165\n",
      "Accuracy: 0.5751998424530029\n",
      "Epoch 24, CIFAR-10 Batch 5:  Loss: 0.8545759916305542\n",
      "Accuracy: 0.5769999623298645\n",
      "Epoch 25, CIFAR-10 Batch 1:  Loss: 0.868557333946228\n",
      "Accuracy: 0.5813999176025391\n",
      "Epoch 25, CIFAR-10 Batch 2:  Loss: 0.9357929825782776\n",
      "Accuracy: 0.5707999467849731\n",
      "Epoch 25, CIFAR-10 Batch 3:  Loss: 0.8106784820556641\n",
      "Accuracy: 0.5927999019622803\n",
      "Epoch 25, CIFAR-10 Batch 4:  Loss: 0.9501242637634277\n",
      "Accuracy: 0.5787999629974365\n",
      "Epoch 25, CIFAR-10 Batch 5:  Loss: 0.8815838098526001\n",
      "Accuracy: 0.5791999101638794\n",
      "Epoch 26, CIFAR-10 Batch 1:  Loss: 0.8998869061470032\n",
      "Accuracy: 0.6015998721122742\n",
      "Epoch 26, CIFAR-10 Batch 2:  Loss: 0.9047724604606628\n",
      "Accuracy: 0.5767999291419983\n",
      "Epoch 26, CIFAR-10 Batch 3:  Loss: 0.8571286201477051\n",
      "Accuracy: 0.579599916934967\n",
      "Epoch 26, CIFAR-10 Batch 4:  Loss: 0.9183579683303833\n",
      "Accuracy: 0.5883999466896057\n",
      "Epoch 26, CIFAR-10 Batch 5:  Loss: 0.862917959690094\n",
      "Accuracy: 0.5833999514579773\n",
      "Epoch 27, CIFAR-10 Batch 1:  Loss: 0.8049685955047607\n",
      "Accuracy: 0.5865999460220337\n",
      "Epoch 27, CIFAR-10 Batch 2:  Loss: 0.9735647439956665\n",
      "Accuracy: 0.5747998952865601\n",
      "Epoch 27, CIFAR-10 Batch 3:  Loss: 0.8859458565711975\n",
      "Accuracy: 0.5833999514579773\n",
      "Epoch 27, CIFAR-10 Batch 4:  Loss: 0.8895045518875122\n",
      "Accuracy: 0.5813999176025391\n",
      "Epoch 27, CIFAR-10 Batch 5:  Loss: 0.7838171720504761\n",
      "Accuracy: 0.5923998951911926\n",
      "Epoch 28, CIFAR-10 Batch 1:  Loss: 0.8825421333312988\n",
      "Accuracy: 0.5815998911857605\n",
      "Epoch 28, CIFAR-10 Batch 2:  Loss: 0.8702923655509949\n",
      "Accuracy: 0.590199887752533\n",
      "Epoch 28, CIFAR-10 Batch 3:  Loss: 0.8230936527252197\n",
      "Accuracy: 0.5911998748779297\n",
      "Epoch 28, CIFAR-10 Batch 4:  Loss: 0.8592478632926941\n",
      "Accuracy: 0.5929998755455017\n",
      "Epoch 28, CIFAR-10 Batch 5:  Loss: 0.7851420044898987\n",
      "Accuracy: 0.5907999277114868\n",
      "Epoch 29, CIFAR-10 Batch 1:  Loss: 0.7980877757072449\n",
      "Accuracy: 0.5911998748779297\n",
      "Epoch 29, CIFAR-10 Batch 2:  Loss: 0.862287163734436\n",
      "Accuracy: 0.5859999060630798\n",
      "Epoch 29, CIFAR-10 Batch 3:  Loss: 0.8241318464279175\n",
      "Accuracy: 0.5781999230384827\n",
      "Epoch 29, CIFAR-10 Batch 4:  Loss: 0.8871468901634216\n",
      "Accuracy: 0.5895999670028687\n",
      "Epoch 29, CIFAR-10 Batch 5:  Loss: 0.7554261684417725\n",
      "Accuracy: 0.6001998782157898\n",
      "Epoch 30, CIFAR-10 Batch 1:  Loss: 0.799358069896698\n",
      "Accuracy: 0.6031998991966248\n",
      "Epoch 30, CIFAR-10 Batch 2:  Loss: 0.8639074563980103\n",
      "Accuracy: 0.5859999060630798\n",
      "Epoch 30, CIFAR-10 Batch 3:  Loss: 0.8404027223587036\n",
      "Accuracy: 0.5925998687744141\n",
      "Epoch 30, CIFAR-10 Batch 4:  Loss: 0.8493649363517761\n",
      "Accuracy: 0.5891999006271362\n",
      "Epoch 30, CIFAR-10 Batch 5:  Loss: 0.7224920988082886\n",
      "Accuracy: 0.6033998727798462\n",
      "Epoch 31, CIFAR-10 Batch 1:  Loss: 0.8023614287376404\n",
      "Accuracy: 0.5867998600006104\n",
      "Epoch 31, CIFAR-10 Batch 2:  Loss: 0.8161988258361816\n",
      "Accuracy: 0.5863999128341675\n",
      "Epoch 31, CIFAR-10 Batch 3:  Loss: 0.8190048933029175\n",
      "Accuracy: 0.5901999473571777\n",
      "Epoch 31, CIFAR-10 Batch 4:  Loss: 0.8352700471878052\n",
      "Accuracy: 0.606999933719635\n",
      "Epoch 31, CIFAR-10 Batch 5:  Loss: 0.7027959227561951\n",
      "Accuracy: 0.5993999242782593\n",
      "Epoch 32, CIFAR-10 Batch 1:  Loss: 0.7785201072692871\n",
      "Accuracy: 0.5907999277114868\n",
      "Epoch 32, CIFAR-10 Batch 2:  Loss: 0.8505271673202515\n",
      "Accuracy: 0.5919999480247498\n",
      "Epoch 32, CIFAR-10 Batch 3:  Loss: 0.7598468065261841\n",
      "Accuracy: 0.6115999221801758\n",
      "Epoch 32, CIFAR-10 Batch 4:  Loss: 0.8434072732925415\n",
      "Accuracy: 0.5887998938560486\n",
      "Epoch 32, CIFAR-10 Batch 5:  Loss: 0.7704797983169556\n",
      "Accuracy: 0.5931999087333679\n",
      "Epoch 33, CIFAR-10 Batch 1:  Loss: 0.7421640753746033\n",
      "Accuracy: 0.5865999460220337\n",
      "Epoch 33, CIFAR-10 Batch 2:  Loss: 0.8232666254043579\n",
      "Accuracy: 0.5947999358177185\n",
      "Epoch 33, CIFAR-10 Batch 3:  Loss: 0.7774044871330261\n",
      "Accuracy: 0.6005998849868774\n",
      "Epoch 33, CIFAR-10 Batch 4:  Loss: 0.8449296355247498\n",
      "Accuracy: 0.5991999506950378\n",
      "Epoch 33, CIFAR-10 Batch 5:  Loss: 0.7475730180740356\n",
      "Accuracy: 0.5901999473571777\n",
      "Epoch 34, CIFAR-10 Batch 1:  Loss: 0.7805313467979431\n",
      "Accuracy: 0.5847999453544617\n",
      "Epoch 34, CIFAR-10 Batch 2:  Loss: 0.7993354797363281\n",
      "Accuracy: 0.5893999338150024\n",
      "Epoch 34, CIFAR-10 Batch 3:  Loss: 0.784043550491333\n",
      "Accuracy: 0.5981999635696411\n",
      "Epoch 34, CIFAR-10 Batch 4:  Loss: 0.8494420647621155\n",
      "Accuracy: 0.6035999059677124\n",
      "Epoch 34, CIFAR-10 Batch 5:  Loss: 0.7123093605041504\n",
      "Accuracy: 0.5935999155044556\n",
      "Epoch 35, CIFAR-10 Batch 1:  Loss: 0.7326640486717224\n",
      "Accuracy: 0.5921999216079712\n",
      "Epoch 35, CIFAR-10 Batch 2:  Loss: 0.8094862699508667\n",
      "Accuracy: 0.5905999541282654\n",
      "Epoch 35, CIFAR-10 Batch 3:  Loss: 0.7393572926521301\n",
      "Accuracy: 0.6059999465942383\n",
      "Epoch 35, CIFAR-10 Batch 4:  Loss: 0.8189838528633118\n",
      "Accuracy: 0.5969999432563782\n",
      "Epoch 35, CIFAR-10 Batch 5:  Loss: 0.7292715311050415\n",
      "Accuracy: 0.5999999046325684\n",
      "Epoch 36, CIFAR-10 Batch 1:  Loss: 0.7360352277755737\n",
      "Accuracy: 0.6045999526977539\n",
      "Epoch 36, CIFAR-10 Batch 2:  Loss: 0.8155202865600586\n",
      "Accuracy: 0.6021999716758728\n",
      "Epoch 36, CIFAR-10 Batch 3:  Loss: 0.7787405252456665\n",
      "Accuracy: 0.6071999073028564\n",
      "Epoch 36, CIFAR-10 Batch 4:  Loss: 0.7576087117195129\n",
      "Accuracy: 0.5987999439239502\n",
      "Epoch 36, CIFAR-10 Batch 5:  Loss: 0.7329362034797668\n",
      "Accuracy: 0.5897999405860901\n",
      "Epoch 37, CIFAR-10 Batch 1:  Loss: 0.7624537348747253\n",
      "Accuracy: 0.6003999710083008\n",
      "Epoch 37, CIFAR-10 Batch 2:  Loss: 0.7805870771408081\n",
      "Accuracy: 0.5927999019622803\n",
      "Epoch 37, CIFAR-10 Batch 3:  Loss: 0.7572873830795288\n",
      "Accuracy: 0.5799999237060547\n",
      "Epoch 37, CIFAR-10 Batch 4:  Loss: 0.7636865973472595\n",
      "Accuracy: 0.5907999277114868\n",
      "Epoch 37, CIFAR-10 Batch 5:  Loss: 0.7363855838775635\n",
      "Accuracy: 0.5953998565673828\n",
      "Epoch 38, CIFAR-10 Batch 1:  Loss: 0.7881228923797607\n",
      "Accuracy: 0.5845999717712402\n",
      "Epoch 38, CIFAR-10 Batch 2:  Loss: 0.7339749932289124\n",
      "Accuracy: 0.5931999087333679\n",
      "Epoch 38, CIFAR-10 Batch 3:  Loss: 0.7136843800544739\n",
      "Accuracy: 0.6025999188423157\n",
      "Epoch 38, CIFAR-10 Batch 4:  Loss: 0.7159543037414551\n",
      "Accuracy: 0.5959998965263367\n",
      "Epoch 38, CIFAR-10 Batch 5:  Loss: 0.689868688583374\n",
      "Accuracy: 0.6027998924255371\n",
      "Epoch 39, CIFAR-10 Batch 1:  Loss: 0.7712604999542236\n",
      "Accuracy: 0.5839999318122864\n",
      "Epoch 39, CIFAR-10 Batch 2:  Loss: 0.7556604743003845\n",
      "Accuracy: 0.5929999351501465\n",
      "Epoch 39, CIFAR-10 Batch 3:  Loss: 0.7358872890472412\n",
      "Accuracy: 0.6047998666763306\n",
      "Epoch 39, CIFAR-10 Batch 4:  Loss: 0.7437008023262024\n",
      "Accuracy: 0.5883998870849609\n",
      "Epoch 39, CIFAR-10 Batch 5:  Loss: 0.7141886949539185\n",
      "Accuracy: 0.5937999486923218\n",
      "Epoch 40, CIFAR-10 Batch 1:  Loss: 0.7454458475112915\n",
      "Accuracy: 0.5907999277114868\n",
      "Epoch 40, CIFAR-10 Batch 2:  Loss: 0.710488498210907\n",
      "Accuracy: 0.6053999662399292\n",
      "Epoch 40, CIFAR-10 Batch 3:  Loss: 0.654274582862854\n",
      "Accuracy: 0.5981999039649963\n",
      "Epoch 40, CIFAR-10 Batch 4:  Loss: 0.742679238319397\n",
      "Accuracy: 0.5883999466896057\n",
      "Epoch 40, CIFAR-10 Batch 5:  Loss: 0.7061914801597595\n",
      "Accuracy: 0.6117998361587524\n",
      "Epoch 41, CIFAR-10 Batch 1:  Loss: 0.6768871545791626\n",
      "Accuracy: 0.6055998802185059\n",
      "Epoch 41, CIFAR-10 Batch 2:  Loss: 0.7176682949066162\n",
      "Accuracy: 0.6051998734474182\n",
      "Epoch 41, CIFAR-10 Batch 3:  Loss: 0.6740160584449768\n",
      "Accuracy: 0.6011999249458313\n",
      "Epoch 41, CIFAR-10 Batch 4:  Loss: 0.7292680144309998\n",
      "Accuracy: 0.601599931716919\n",
      "Epoch 41, CIFAR-10 Batch 5:  Loss: 0.6727499961853027\n",
      "Accuracy: 0.6031998991966248\n",
      "Epoch 42, CIFAR-10 Batch 1:  Loss: 0.7091540098190308\n",
      "Accuracy: 0.6027998924255371\n",
      "Epoch 42, CIFAR-10 Batch 2:  Loss: 0.6995137333869934\n",
      "Accuracy: 0.6029998660087585\n",
      "Epoch 42, CIFAR-10 Batch 3:  Loss: 0.6397134065628052\n",
      "Accuracy: 0.5981999039649963\n",
      "Epoch 42, CIFAR-10 Batch 4:  Loss: 0.7384092807769775\n",
      "Accuracy: 0.6029999256134033\n",
      "Epoch 42, CIFAR-10 Batch 5:  Loss: 0.7468467950820923\n",
      "Accuracy: 0.6101999282836914\n",
      "Epoch 43, CIFAR-10 Batch 1:  Loss: 0.6765367984771729\n",
      "Accuracy: 0.6019999980926514\n",
      "Epoch 43, CIFAR-10 Batch 2:  Loss: 0.7528222799301147\n",
      "Accuracy: 0.5915999412536621\n",
      "Epoch 43, CIFAR-10 Batch 3:  Loss: 0.628087043762207\n",
      "Accuracy: 0.6019998788833618\n",
      "Epoch 43, CIFAR-10 Batch 4:  Loss: 0.7489203214645386\n",
      "Accuracy: 0.5935998558998108\n",
      "Epoch 43, CIFAR-10 Batch 5:  Loss: 0.643100917339325\n",
      "Accuracy: 0.6087998747825623\n",
      "Epoch 44, CIFAR-10 Batch 1:  Loss: 0.7211162447929382\n",
      "Accuracy: 0.5935999155044556\n",
      "Epoch 44, CIFAR-10 Batch 2:  Loss: 0.7010753154754639\n",
      "Accuracy: 0.5989999175071716\n",
      "Epoch 44, CIFAR-10 Batch 3:  Loss: 0.7143641114234924\n",
      "Accuracy: 0.5981999039649963\n",
      "Epoch 44, CIFAR-10 Batch 4:  Loss: 0.6920973658561707\n",
      "Accuracy: 0.5987998843193054\n",
      "Epoch 44, CIFAR-10 Batch 5:  Loss: 0.6899344325065613\n",
      "Accuracy: 0.5957999229431152\n",
      "Epoch 45, CIFAR-10 Batch 1:  Loss: 0.7195282578468323\n",
      "Accuracy: 0.597399890422821\n",
      "Epoch 45, CIFAR-10 Batch 2:  Loss: 0.6603962779045105\n",
      "Accuracy: 0.6071999669075012\n",
      "Epoch 45, CIFAR-10 Batch 3:  Loss: 0.7278991937637329\n",
      "Accuracy: 0.5969999432563782\n",
      "Epoch 45, CIFAR-10 Batch 4:  Loss: 0.7337138056755066\n",
      "Accuracy: 0.5953999161720276\n",
      "Epoch 45, CIFAR-10 Batch 5:  Loss: 0.6524397134780884\n",
      "Accuracy: 0.609799861907959\n",
      "Epoch 46, CIFAR-10 Batch 1:  Loss: 0.7558112144470215\n",
      "Accuracy: 0.5921999216079712\n",
      "Epoch 46, CIFAR-10 Batch 2:  Loss: 0.7138042449951172\n",
      "Accuracy: 0.5869998931884766\n",
      "Epoch 46, CIFAR-10 Batch 3:  Loss: 0.6881959438323975\n",
      "Accuracy: 0.6093999147415161\n",
      "Epoch 46, CIFAR-10 Batch 4:  Loss: 0.6800086498260498\n",
      "Accuracy: 0.590399980545044\n",
      "Epoch 46, CIFAR-10 Batch 5:  Loss: 0.6775336861610413\n",
      "Accuracy: 0.6013998985290527\n",
      "Epoch 47, CIFAR-10 Batch 1:  Loss: 0.7450315952301025\n",
      "Accuracy: 0.6019999384880066\n",
      "Epoch 47, CIFAR-10 Batch 2:  Loss: 0.6956340670585632\n",
      "Accuracy: 0.5839998722076416\n",
      "Epoch 47, CIFAR-10 Batch 3:  Loss: 0.7141153216362\n",
      "Accuracy: 0.5947998762130737\n",
      "Epoch 47, CIFAR-10 Batch 4:  Loss: 0.7010568380355835\n",
      "Accuracy: 0.5905998945236206\n",
      "Epoch 47, CIFAR-10 Batch 5:  Loss: 0.6707520484924316\n",
      "Accuracy: 0.610599935054779\n",
      "Epoch 48, CIFAR-10 Batch 1:  Loss: 0.7409279942512512\n",
      "Accuracy: 0.5899999141693115\n",
      "Epoch 48, CIFAR-10 Batch 2:  Loss: 0.59834223985672\n",
      "Accuracy: 0.6029999256134033\n",
      "Epoch 48, CIFAR-10 Batch 3:  Loss: 0.6538114547729492\n",
      "Accuracy: 0.5989999175071716\n",
      "Epoch 48, CIFAR-10 Batch 4:  Loss: 0.6933357119560242\n",
      "Accuracy: 0.6121999025344849\n",
      "Epoch 48, CIFAR-10 Batch 5:  Loss: 0.6609681844711304\n",
      "Accuracy: 0.6089999079704285\n",
      "Epoch 49, CIFAR-10 Batch 1:  Loss: 0.6811375021934509\n",
      "Accuracy: 0.5923999547958374\n",
      "Epoch 49, CIFAR-10 Batch 2:  Loss: 0.6341928243637085\n",
      "Accuracy: 0.5933998823165894\n",
      "Epoch 49, CIFAR-10 Batch 3:  Loss: 0.6520055532455444\n",
      "Accuracy: 0.6141998767852783\n",
      "Epoch 49, CIFAR-10 Batch 4:  Loss: 0.6551673412322998\n",
      "Accuracy: 0.5975998640060425\n",
      "Epoch 49, CIFAR-10 Batch 5:  Loss: 0.721725344657898\n",
      "Accuracy: 0.6067999601364136\n",
      "Epoch 50, CIFAR-10 Batch 1:  Loss: 0.7246007919311523\n",
      "Accuracy: 0.5977999567985535\n",
      "Epoch 50, CIFAR-10 Batch 2:  Loss: 0.5835258960723877\n",
      "Accuracy: 0.5985999703407288\n",
      "Epoch 50, CIFAR-10 Batch 3:  Loss: 0.6558811664581299\n",
      "Accuracy: 0.5925999283790588\n",
      "Epoch 50, CIFAR-10 Batch 4:  Loss: 0.6640157103538513\n",
      "Accuracy: 0.5993999242782593\n",
      "Epoch 50, CIFAR-10 Batch 5:  Loss: 0.7227619886398315\n",
      "Accuracy: 0.5933999419212341\n"
     ]
    }
   ],
   "source": [
    "\"\"\"\n",
    "DON'T MODIFY ANYTHING IN THIS CELL\n",
    "\"\"\"\n",
    "save_model_path = './image_classification'\n",
    "\n",
    "print('Training...')\n",
    "with tf.Session() as sess:\n",
    "    # Initializing the variables\n",
    "    sess.run(tf.global_variables_initializer())\n",
    "    \n",
    "    # Training cycle\n",
    "    for epoch in range(epochs):\n",
    "        # Loop over all batches\n",
    "        n_batches = 5\n",
    "        for batch_i in range(1, n_batches + 1):\n",
    "            for batch_features, batch_labels in helper.load_preprocess_training_batch(batch_i, batch_size):\n",
    "                train_neural_network(sess, optimizer, keep_probability, batch_features, batch_labels)\n",
    "            print('Epoch {:>2}, CIFAR-10 Batch {}:  '.format(epoch + 1, batch_i), end='')\n",
    "            print_stats(sess, batch_features, batch_labels, cost, accuracy)\n",
    "            \n",
    "    # Save Model\n",
    "    saver = tf.train.Saver()\n",
    "    save_path = saver.save(sess, save_model_path)"
   ]
  },
  {
   "cell_type": "markdown",
   "metadata": {
    "deletable": true,
    "editable": true
   },
   "source": [
    "# Checkpoint\n",
    "The model has been saved to disk.\n",
    "## Test Model\n",
    "Test your model against the test dataset.  This will be your final accuracy. You should have an accuracy greater than 50%. If you don't, keep tweaking the model architecture and parameters."
   ]
  },
  {
   "cell_type": "code",
   "execution_count": 114,
   "metadata": {
    "collapsed": false,
    "deletable": true,
    "editable": true
   },
   "outputs": [
    {
     "name": "stdout",
     "output_type": "stream",
     "text": [
      "Testing Accuracy: 0.5989912974683544\n",
      "\n"
     ]
    },
    {
     "data": {
      "image/png": "[encoded data removed]",
      "text/plain": [
       "<matplotlib.figure.Figure at 0x7f80966dc2b0>"
      ]
     },
     "metadata": {
      "image/png": {
       "height": 319,
       "width": 355
      }
     },
     "output_type": "display_data"
    }
   ],
   "source": [
    "\"\"\"\n",
    "DON'T MODIFY ANYTHING IN THIS CELL\n",
    "\"\"\"\n",
    "%matplotlib inline\n",
    "%config InlineBackend.figure_format = 'retina'\n",
    "\n",
    "import tensorflow as tf\n",
    "import pickle\n",
    "import helper\n",
    "import random\n",
    "\n",
    "# Set batch size if not already set\n",
    "try:\n",
    "    if batch_size:\n",
    "        pass\n",
    "except NameError:\n",
    "    batch_size = 64\n",
    "\n",
    "save_model_path = './image_classification'\n",
    "n_samples = 4\n",
    "top_n_predictions = 3\n",
    "\n",
    "def test_model():\n",
    "    \"\"\"\n",
    "    Test the saved model against the test dataset\n",
    "    \"\"\"\n",
    "\n",
    "    test_features, test_labels = pickle.load(open('preprocess_training.p', mode='rb'))\n",
    "    loaded_graph = tf.Graph()\n",
    "\n",
    "    with tf.Session(graph=loaded_graph) as sess:\n",
    "        # Load model\n",
    "        loader = tf.train.import_meta_graph(save_model_path + '.meta')\n",
    "        loader.restore(sess, save_model_path)\n",
    "\n",
    "        # Get Tensors from loaded model\n",
    "        loaded_x = loaded_graph.get_tensor_by_name('x:0')\n",
    "        loaded_y = loaded_graph.get_tensor_by_name('y:0')\n",
    "        loaded_keep_prob = loaded_graph.get_tensor_by_name('keep_prob:0')\n",
    "        loaded_logits = loaded_graph.get_tensor_by_name('logits:0')\n",
    "        loaded_acc = loaded_graph.get_tensor_by_name('accuracy:0')\n",
    "        \n",
    "        # Get accuracy in batches for memory limitations\n",
    "        test_batch_acc_total = 0\n",
    "        test_batch_count = 0\n",
    "        \n",
    "        for train_feature_batch, train_label_batch in helper.batch_features_labels(test_features, test_labels, batch_size):\n",
    "            test_batch_acc_total += sess.run(\n",
    "                loaded_acc,\n",
    "                feed_dict={loaded_x: train_feature_batch, loaded_y: train_label_batch, loaded_keep_prob: 1.0})\n",
    "            test_batch_count += 1\n",
    "\n",
    "        print('Testing Accuracy: {}\\n'.format(test_batch_acc_total/test_batch_count))\n",
    "\n",
    "        # Print Random Samples\n",
    "        random_test_features, random_test_labels = tuple(zip(*random.sample(list(zip(test_features, test_labels)), n_samples)))\n",
    "        random_test_predictions = sess.run(\n",
    "            tf.nn.top_k(tf.nn.softmax(loaded_logits), top_n_predictions),\n",
    "            feed_dict={loaded_x: random_test_features, loaded_y: random_test_labels, loaded_keep_prob: 1.0})\n",
    "        helper.display_image_predictions(random_test_features, random_test_labels, random_test_predictions)\n",
    "\n",
    "\n",
    "test_model()"
   ]
  },
  {
   "cell_type": "markdown",
   "metadata": {
    "deletable": true,
    "editable": true
   },
   "source": [
    "## Why 50-70% Accuracy?\n",
    "You might be wondering why you can't get an accuracy any higher. First things first, 50% isn't bad for a simple CNN.  Pure guessing would get you 10% accuracy. However, you might notice people are getting scores [well above 70%](http://rodrigob.github.io/are_we_there_yet/build/classification_datasets_results.html#43494641522d3130).  That's because we haven't taught you all there is to know about neural networks. We still need to cover a few more techniques.\n",
    "## Submitting This Project\n",
    "When submitting this project, make sure to run all the cells before saving the notebook.  Save the notebook file as \"dlnd_image_classification.ipynb\" and save it as a HTML file under \"File\" -> \"Download as\".  Include the \"helper.py\" and \"problem_unittests.py\" files in your submission."
   ]
  }
 ],
 "metadata": {
  "kernelspec": {
   "display_name": "Python 3",
   "language": "python",
   "name": "python3"
  },
  "language_info": {
   "codemirror_mode": {
    "name": "ipython",
    "version": 3
   },
   "file_extension": ".py",
   "mimetype": "text/x-python",
   "name": "python",
   "nbconvert_exporter": "python",
   "pygments_lexer": "ipython3",
   "version": "3.5.3"
  }
 },
 "nbformat": 4,
 "nbformat_minor": 0
}
